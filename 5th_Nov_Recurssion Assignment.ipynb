{
 "cells": [
  {
   "cell_type": "code",
   "execution_count": 2,
   "id": "9e3dec0c-bc25-41db-b876-ca577e955247",
   "metadata": {},
   "outputs": [
    {
     "name": "stdout",
     "output_type": "stream",
     "text": [
      "Move disk 1 from rod A to rod C\n",
      "Move disk 2 from rod A to rod B\n",
      "Move disk 1 from rod C to rod B\n",
      "Move disk 3 from rod A to rod C\n",
      "Move disk 1 from rod B to rod A\n",
      "Move disk 2 from rod B to rod C\n",
      "Move disk 1 from rod A to rod C\n"
     ]
    }
   ],
   "source": [
    "# Q.1 Can you explain the logic and working of the Tower of Hanoi algorithm by writing a python program?\n",
    "# How does the recursion work, and how are the movements of disks between rods accomplished?\n",
    "\n",
    "# The Tower of Hanoi is a classic problem in computer science and mathematics, often used to teach recursion.\n",
    "# The puzzle consists of three rods and a number of disks of different sizes which can slide onto any rod. \n",
    "# The puzzle starts with the disks in a neat stack in ascending order of size on one rod, the smallest at the \n",
    "# top, thus making a conical shape.\n",
    "\n",
    "# The objective of the puzzle is to move the entire stack to another rod, obeying the following simple rules:\n",
    "\n",
    "# 1.Only one disk can be moved at a time.\n",
    "# 2.Each move consists of taking the upper disk from one of the stacks and placing it on top of another stack or\n",
    "#   on an empty rod.\n",
    "# 3.No disk may be placed on top of a smaller disk.\n",
    "\n",
    "# Recursive Solution:\n",
    "# The recursive solution breaks down the problem into smaller problems, and those into even smaller problems,\n",
    "# until it reaches a problem that it can solve directly (moving a single disk).\n",
    "\n",
    "# Here’s how the recursion works:\n",
    "\n",
    "# To move n disks from source to target, first move n-1 disks from source to auxiliary (this step is solved by recursion).\n",
    "# Then, move the nth disk from source to target (this is the straightforward step).\n",
    "# Finally, move the n-1 disks from auxiliary to target (again, solved by recursion).\n",
    "\n",
    "\n",
    "def towerOfHanoi(n, source, destination, auxiliary):\n",
    "    if n == 1:\n",
    "        print(f\"Move disk 1 from rod {source} to rod {destination}\")\n",
    "        return\n",
    "    # Move n-1 disks from source to auxiliary, so they are out of the way\n",
    "    towerOfHanoi(n-1, source, auxiliary, destination)\n",
    "    \n",
    "    # Move the nth disk from source to destination\n",
    "    print(f\"Move disk {n} from rod {source} to rod {destination}\")\n",
    "    \n",
    "    # Move the n-1 disks that we left on auxiliary to destination\n",
    "    towerOfHanoi(n-1, auxiliary, destination, source)\n",
    "\n",
    "# Number of disks\n",
    "n = 3\n",
    "# A, B and C are names of the rods\n",
    "towerOfHanoi(n, 'A', 'C', 'B')\n"
   ]
  },
  {
   "cell_type": "code",
   "execution_count": 1,
   "id": "08ced9f5-9e8c-498a-9b1a-55c284ccd924",
   "metadata": {},
   "outputs": [
    {
     "name": "stdout",
     "output_type": "stream",
     "text": [
      "3\n",
      "5\n"
     ]
    }
   ],
   "source": [
    "# Q.2 Given two strings word1 and word2, return the minimum number of operations required to convert word1\n",
    "# to word2.\n",
    "\n",
    "def minDistance(word1: str, word2: str) -> int:\n",
    "    m, n = len(word1), len(word2)\n",
    "    # Create a DP table to store results of subproblems\n",
    "    dp = [[0] * (n + 1) for _ in range(m + 1)]\n",
    "    \n",
    "    # Fill dp[][] in bottom up manner\n",
    "    for i in range(m + 1):\n",
    "        for j in range(n + 1):\n",
    "            # If first string is empty, only option is to\n",
    "            # insert all characters of second string\n",
    "            if i == 0:\n",
    "                dp[i][j] = j    # Min. operations = j\n",
    "                \n",
    "            # If second string is empty, only option is to\n",
    "            # remove all characters of first string\n",
    "            elif j == 0:\n",
    "                dp[i][j] = i    # Min. operations = i\n",
    "                \n",
    "            # If last characters are same, ignore last char\n",
    "            # and recur for remaining string\n",
    "            elif word1[i-1] == word2[j-1]:\n",
    "                dp[i][j] = dp[i-1][j-1]\n",
    "                \n",
    "            # If the last character is different, consider all\n",
    "            # possibilities and find the minimum\n",
    "            else:\n",
    "                dp[i][j] = 1 + min(dp[i][j-1],        # Insert\n",
    "                                   dp[i-1][j],        # Remove\n",
    "                                   dp[i-1][j-1])      # Replace\n",
    "                \n",
    "    return dp[m][n]\n",
    "\n",
    "# Example 1\n",
    "word1 = \"horse\"\n",
    "word2 = \"ros\"\n",
    "print(minDistance(word1, word2))  # Output: 3\n",
    "\n",
    "# Example 2\n",
    "word1 = \"intention\"\n",
    "word2 = \"execution\"\n",
    "print(minDistance(word1, word2))  # Output: 5\n"
   ]
  },
  {
   "cell_type": "code",
   "execution_count": 5,
   "id": "888c6ca8-1664-493f-9ec7-fb5db4c7fb71",
   "metadata": {},
   "outputs": [
    {
     "name": "stdout",
     "output_type": "stream",
     "text": [
      "22\n"
     ]
    }
   ],
   "source": [
    "# Q.3 Print the max value of the array [ 13, 1, -3, 22, 5].\n",
    "\n",
    "def findMax(arr,max_=None,i=0):\n",
    "    if max_ is None:\n",
    "        max_ = arr[i]\n",
    "    \n",
    "    if i==len(arr)-1:\n",
    "        return max_\n",
    "    \n",
    "    if arr[i]>max_:\n",
    "        max_ =arr[i]\n",
    "        \n",
    "    return findMax(arr,max_,i+1)\n",
    "\n",
    "print(findMax([ 13, 1, -3, 22, 5]))"
   ]
  },
  {
   "cell_type": "code",
   "execution_count": 13,
   "id": "0436a0e0-f9ad-455a-9c2f-d91519bde86b",
   "metadata": {},
   "outputs": [
    {
     "name": "stdout",
     "output_type": "stream",
     "text": [
      "120\n"
     ]
    }
   ],
   "source": [
    "# Q.4Find the sum of the values of the array [92, 23, 15, -20, 10].\n",
    "\n",
    "def findSum(arr,i=0):\n",
    "    if not arr:\n",
    "        return 0\n",
    "    if i==len(arr)-1:\n",
    "        return arr[i]\n",
    "    else:\n",
    "        return arr[i]+findSum(arr,i+1)\n",
    "    \n",
    "print(findSum( [92, 23, 15, -20, 10]))"
   ]
  },
  {
   "cell_type": "code",
   "execution_count": 38,
   "id": "035a12e9-d374-4e46-87ca-e49b3044deed",
   "metadata": {},
   "outputs": [
    {
     "name": "stdin",
     "output_type": "stream",
     "text": [
      "Enter number to check armstrong: 123\n"
     ]
    },
    {
     "name": "stdout",
     "output_type": "stream",
     "text": [
      "Number is not armstrong\n"
     ]
    }
   ],
   "source": [
    "# Q.5 Given a number n. Print if it is an armstrong number or not.An armstrong number is a number if the sum\n",
    "# of every digit in that number raised to the power of total digits in that number is equal to the number.\n",
    "\n",
    "\n",
    "def armstrong(num,n=None,sum_=0):\n",
    "    if n is None:\n",
    "        n = len(str(num))\n",
    "    if 0<=num<=9:\n",
    "        return num**n\n",
    "        \n",
    "    else:\n",
    "        r = num%10\n",
    "        return  r**n + armstrong(num//10,n)\n",
    "        \n",
    "        \n",
    "num =  int(input(\"Enter number to check armstrong:\"))\n",
    "if num == armstrong(num):\n",
    "    print(\"Number is armstrong\")\n",
    "else:\n",
    "    print(\"Number is not armstrong\")"
   ]
  }
 ],
 "metadata": {
  "kernelspec": {
   "display_name": "Python 3 (ipykernel)",
   "language": "python",
   "name": "python3"
  },
  "language_info": {
   "codemirror_mode": {
    "name": "ipython",
    "version": 3
   },
   "file_extension": ".py",
   "mimetype": "text/x-python",
   "name": "python",
   "nbconvert_exporter": "python",
   "pygments_lexer": "ipython3",
   "version": "3.10.8"
  }
 },
 "nbformat": 4,
 "nbformat_minor": 5
}
